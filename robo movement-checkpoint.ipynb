{
 "cells": [
  {
   "cell_type": "code",
   "execution_count": 1,
   "metadata": {},
   "outputs": [
    {
     "name": "stdout",
     "output_type": "stream",
     "text": [
      "Final Position: ( 2 ,  3 )\n"
     ]
    }
   ],
   "source": [
    "# Python3 implementation to find final position \n",
    "# of robot after the complete movement \n",
    "   \n",
    " # function to find final position of \n",
    "# robot after the complete movement \n",
    "def finalPosition(move): \n",
    "  \n",
    "    l = len(move); \n",
    "    countUp, countDown = 0, 0; \n",
    "    countLeft, countRight = 0, 0; \n",
    "  \n",
    "    # traverse the instruction string \n",
    "    # 'move' \n",
    "    for i in range(l): \n",
    "  \n",
    "        # for each movement increment \n",
    "        # its respective counter \n",
    "        if (move[i] == 'U'): \n",
    "            countUp += 1; \n",
    "  \n",
    "        elif(move[i] == 'D'): \n",
    "            countDown += 1; \n",
    "  \n",
    "        elif(move[i] == 'L'): \n",
    "            countLeft += 1; \n",
    "  \n",
    "        elif(move[i] == 'R'): \n",
    "            countRight += 1; \n",
    "  \n",
    "    # required final position of robot \n",
    "    print(\"Final Position: (\", (countRight - countLeft), \n",
    "            \", \" , (countUp - countDown), \")\"); \n",
    "  \n",
    "# Driver program to test above \n",
    "if __name__ == '__main__': \n",
    "    move = \"UDDLLRUUUDUURUDDUULLDRRRR\"; \n",
    "    finalPosition(move); "
   ]
  },
  {
   "cell_type": "code",
   "execution_count": null,
   "metadata": {},
   "outputs": [],
   "source": []
  }
 ],
 "metadata": {
  "kernelspec": {
   "display_name": "Python 3",
   "language": "python",
   "name": "python3"
  },
  "language_info": {
   "codemirror_mode": {
    "name": "ipython",
    "version": 3
   },
   "file_extension": ".py",
   "mimetype": "text/x-python",
   "name": "python",
   "nbconvert_exporter": "python",
   "pygments_lexer": "ipython3",
   "version": "3.8.3"
  }
 },
 "nbformat": 4,
 "nbformat_minor": 4
}
